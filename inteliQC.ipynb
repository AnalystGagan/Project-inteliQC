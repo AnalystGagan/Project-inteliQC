{
  "nbformat": 4,
  "nbformat_minor": 0,
  "metadata": {
    "colab": {
      "name": "inteliQC.ipynb",
      "provenance": [],
      "mount_file_id": "1HwSL4Oux0nL6MnoPQwZvBY8QR_JjiKpD",
      "authorship_tag": "ABX9TyM+V5cI5K9GO5Axb4y6lPdp",
      "include_colab_link": true
    },
    "kernelspec": {
      "name": "python3",
      "display_name": "Python 3"
    },
    "accelerator": "GPU"
  },
  "cells": [
    {
      "cell_type": "markdown",
      "metadata": {
        "id": "view-in-github",
        "colab_type": "text"
      },
      "source": [
        "<a href=\"https://colab.research.google.com/github/AnalystGagan/Project-inteliQC/blob/master/inteliQC.ipynb\" target=\"_parent\"><img src=\"https://colab.research.google.com/assets/colab-badge.svg\" alt=\"Open In Colab\"/></a>"
      ]
    },
    {
      "cell_type": "markdown",
      "metadata": {
        "id": "V5XV_p5_x2VP",
        "colab_type": "text"
      },
      "source": [
        "# End to end machine-learning project for 🔎 quality control of ⚙️ mechanical component manufactured by casting process.\n",
        "\n",
        "This notebook builds an End-to-end Binary Image Classifier using Tensorflow Hub.\n",
        "\n",
        "## 1. Problem \n",
        "In the effort of replacing the manual visual inspection, we would like to automate this process with the help of AI solution.\n",
        "\n",
        "Pass or Fail the component given an image of it.\n",
        "\n",
        "## 2. Data \n",
        "The data we are using is from Kaggel - \n",
        "https://www.kaggle.com/ravirajsinh45/real-life-industrial-dataset-of-casting-product\n",
        "\n",
        "## 3. Evaluation \n",
        "The evaluation is a prediction accuracy of model on test dataset \n",
        "\n",
        "## 4. Features\n",
        "Some information about the data:\n",
        "\n",
        "* we are dealing with images (unstructured data ) so it is probably best to use deep learning/ transfer learning. \n",
        "* There are two classes of data which is defective/ok part(Pass/Fail)  \n",
        "* There are around ~6633 images in training dataset\n",
        "* There are around ~715 images in test dataset\n",
        "\n",
        "\n",
        "\n",
        "\n"
      ]
    },
    {
      "cell_type": "markdown",
      "metadata": {
        "id": "UfWFQCgs_uaf",
        "colab_type": "text"
      },
      "source": [
        "### Getting our workspace ready \n",
        "\n",
        "* Import TensorFlow 2.x ✔️\n",
        "* Import TensorFlow Hub ✔️\n",
        "* Make sure we are using a GPU ✔️\n"
      ]
    },
    {
      "cell_type": "code",
      "metadata": {
        "id": "v6JwOiwk_3dM",
        "colab_type": "code",
        "colab": {
          "base_uri": "https://localhost:8080/",
          "height": 68
        },
        "outputId": "52afb205-ceba-48ab-f2e0-0c2d8dacdbf0"
      },
      "source": [
        "# Import necessary tools\n",
        "import tensorflow as tf\n",
        "import tensorflow_hub as hub\n",
        "print(\"TF version :\", tf.__version__)\n",
        "print(\"TF Hub version:\",hub.__version__)\n",
        " \n",
        "# Check for GPU availablity \n",
        "print(\"GPU\",\"available (Yessssssss!!!!)\" if tf.config.list_physical_devices(\"GPU\") else \"not available :(\")"
      ],
      "execution_count": null,
      "outputs": [
        {
          "output_type": "stream",
          "text": [
            "TF version : 2.3.0\n",
            "TF Hub version: 0.8.0\n",
            "GPU available (Yessssssss!!!!)\n"
          ],
          "name": "stdout"
        }
      ]
    },
    {
      "cell_type": "markdown",
      "metadata": {
        "id": "CWSVoy3l_OTy",
        "colab_type": "text"
      },
      "source": [
        "## Getting our data ready (Turning into Tensors)\n",
        "\n",
        "With all Machine Leanring models, our data has to be in numerical format. So that's what we will be doing first. Turning our images into Tensors(numerical representations)\n",
        "\n",
        "Let's start by accessing our data and  creating the label data out of image names and save it in the form of .csv"
      ]
    },
    {
      "cell_type": "code",
      "metadata": {
        "id": "gDghj6iQonQb",
        "colab_type": "code",
        "colab": {}
      },
      "source": [
        "import numpy as np \n",
        "import pandas as pd "
      ],
      "execution_count": null,
      "outputs": []
    },
    {
      "cell_type": "code",
      "metadata": {
        "id": "iOUdHNEuiUub",
        "colab_type": "code",
        "colab": {
          "base_uri": "https://localhost:8080/",
          "height": 317
        },
        "outputId": "4d72b2cd-f4c2-463d-dfd3-0ad86d30ed46"
      },
      "source": [
        "# Example of bad part \n",
        "from IPython.display import Image\n",
        "Image(\"drive/My Drive/Project intelli-qc/487456_1300891_bundle_archive/casting_data/casting_data/train/def_front/cast_def_0_27.jpeg\")"
      ],
      "execution_count": 36,
      "outputs": [
        {
          "output_type": "execute_result",
          "data": {
            "image/jpeg": "[encoded data removed]",
            "text/plain": [
              "<IPython.core.display.Image object>"
            ]
          },
          "metadata": {
            "tags": []
          },
          "execution_count": 36
        }
      ]
    },
    {
      "cell_type": "code",
      "metadata": {
        "id": "AP3jqed4kDEr",
        "colab_type": "code",
        "colab": {
          "base_uri": "https://localhost:8080/",
          "height": 317
        },
        "outputId": "b42b1753-5c2e-43fc-c34f-06edb0020357"
      },
      "source": [
        "# Example of good part \n",
        "Image(\"drive/My Drive/Project intelli-qc/487456_1300891_bundle_archive/casting_data/casting_data/train/ok_front/cast_ok_0_29.jpeg\")"
      ],
      "execution_count": 34,
      "outputs": [
        {
          "output_type": "execute_result",
          "data": {
            "image/jpeg": "[encoded data removed]",
            "text/plain": [
              "<IPython.core.display.Image object>"
            ]
          },
          "metadata": {
            "tags": []
          },
          "execution_count": 34
        }
      ]
    },
    {
      "cell_type": "code",
      "metadata": {
        "id": "V67OwCcB9UJi",
        "colab_type": "code",
        "colab": {}
      },
      "source": [
        "# Create a function for label data maker\n",
        "\n",
        "def label_data(path):\n",
        "  \"\"\"\n",
        "  lebel_data function takes the file path object and convert it into idname object(filename of each image in file path object).\n",
        "  \"\"\"\n",
        "  import os\n",
        "  filepath = [os.path.join(path, file)\n",
        "        for file in os.listdir(path)\n",
        "        if file.endswith('.jpeg')]\n",
        "  idname = []\n",
        "  for i in filepath:\n",
        "    file = os.path.basename(i)\n",
        "    id = os.path.splitext(file)[0]\n",
        "    idname.append(id)\n",
        "\n",
        "  return idname\n",
        "  "
      ],
      "execution_count": null,
      "outputs": []
    },
    {
      "cell_type": "markdown",
      "metadata": {
        "id": "8-uian-zglAm",
        "colab_type": "text"
      },
      "source": [
        "### Create training data labels\n",
        "* create array of defective parts \n",
        "* create an array of ok parts \n",
        "* convert both arrays into dataframe \n",
        "* combine dataframes and shuffle them"
      ]
    },
    {
      "cell_type": "code",
      "metadata": {
        "id": "ZJuD74sFNTsq",
        "colab_type": "code",
        "colab": {
          "base_uri": "https://localhost:8080/",
          "height": 109
        },
        "outputId": "0f7e4a16-2f17-4c8f-bbf9-cfe74c05f6dd"
      },
      "source": [
        "# create array of label,defective part IDs\n",
        "path = \"drive/My Drive/Project intelli-qc/487456_1300891_bundle_archive/casting_data/casting_data/train/def_front/\"\n",
        "notok = label_data(path)\n",
        "notok[:5]"
      ],
      "execution_count": 21,
      "outputs": [
        {
          "output_type": "execute_result",
          "data": {
            "text/plain": [
              "['cast_def_0_909',\n",
              " 'cast_def_0_9449',\n",
              " 'cast_def_0_9138',\n",
              " 'cast_def_0_9753',\n",
              " 'cast_def_0_9479']"
            ]
          },
          "metadata": {
            "tags": []
          },
          "execution_count": 21
        }
      ]
    },
    {
      "cell_type": "code",
      "metadata": {
        "id": "IOYssUjpOgsm",
        "colab_type": "code",
        "colab": {
          "base_uri": "https://localhost:8080/",
          "height": 109
        },
        "outputId": "8665092a-8f69-406a-e409-5f027371dfa5"
      },
      "source": [
        "# create array of label,ok part IDs\n",
        "path = \"drive/My Drive/Project intelli-qc/487456_1300891_bundle_archive/casting_data/casting_data/train/ok_front/\"\n",
        "ok = label_data(path)\n",
        "ok[:5]"
      ],
      "execution_count": 22,
      "outputs": [
        {
          "output_type": "execute_result",
          "data": {
            "text/plain": [
              "['cast_ok_0_7402',\n",
              " 'cast_ok_0_6552',\n",
              " 'cast_ok_0_9591',\n",
              " 'cast_ok_0_9740',\n",
              " 'cast_ok_0_5372']"
            ]
          },
          "metadata": {
            "tags": []
          },
          "execution_count": 22
        }
      ]
    },
    {
      "cell_type": "code",
      "metadata": {
        "id": "6760HlKQOE-W",
        "colab_type": "code",
        "colab": {
          "base_uri": "https://localhost:8080/",
          "height": 206
        },
        "outputId": "dad903a7-6488-43bb-bac4-8290fa2868fa"
      },
      "source": [
        "# Create a Dataframe of defective parts \n",
        "df_notok = pd.DataFrame(notok, columns=[\"imageID\"])\n",
        "df_notok[\"QCcheck\"] = 'defective'\n",
        "df_notok.head()"
      ],
      "execution_count": 23,
      "outputs": [
        {
          "output_type": "execute_result",
          "data": {
            "text/html": [
              "<div>\n",
              "<style scoped>\n",
              "    .dataframe tbody tr th:only-of-type {\n",
              "        vertical-align: middle;\n",
              "    }\n",
              "\n",
              "    .dataframe tbody tr th {\n",
              "        vertical-align: top;\n",
              "    }\n",
              "\n",
              "    .dataframe thead th {\n",
              "        text-align: right;\n",
              "    }\n",
              "</style>\n",
              "<table border=\"1\" class=\"dataframe\">\n",
              "  <thead>\n",
              "    <tr style=\"text-align: right;\">\n",
              "      <th></th>\n",
              "      <th>imageID</th>\n",
              "      <th>QCcheck</th>\n",
              "    </tr>\n",
              "  </thead>\n",
              "  <tbody>\n",
              "    <tr>\n",
              "      <th>0</th>\n",
              "      <td>cast_def_0_909</td>\n",
              "      <td>defective</td>\n",
              "    </tr>\n",
              "    <tr>\n",
              "      <th>1</th>\n",
              "      <td>cast_def_0_9449</td>\n",
              "      <td>defective</td>\n",
              "    </tr>\n",
              "    <tr>\n",
              "      <th>2</th>\n",
              "      <td>cast_def_0_9138</td>\n",
              "      <td>defective</td>\n",
              "    </tr>\n",
              "    <tr>\n",
              "      <th>3</th>\n",
              "      <td>cast_def_0_9753</td>\n",
              "      <td>defective</td>\n",
              "    </tr>\n",
              "    <tr>\n",
              "      <th>4</th>\n",
              "      <td>cast_def_0_9479</td>\n",
              "      <td>defective</td>\n",
              "    </tr>\n",
              "  </tbody>\n",
              "</table>\n",
              "</div>"
            ],
            "text/plain": [
              "           imageID    QCcheck\n",
              "0   cast_def_0_909  defective\n",
              "1  cast_def_0_9449  defective\n",
              "2  cast_def_0_9138  defective\n",
              "3  cast_def_0_9753  defective\n",
              "4  cast_def_0_9479  defective"
            ]
          },
          "metadata": {
            "tags": []
          },
          "execution_count": 23
        }
      ]
    },
    {
      "cell_type": "code",
      "metadata": {
        "id": "gdCQU2QrAqS3",
        "colab_type": "code",
        "colab": {
          "base_uri": "https://localhost:8080/",
          "height": 206
        },
        "outputId": "34a60c20-7b9c-4ef5-ca6a-31ec3cf9266d"
      },
      "source": [
        "# Create a Dataframe of defective parts \n",
        "df_ok = pd.DataFrame(ok, columns=[\"imageID\"])\n",
        "df_ok[\"QCcheck\"] = 'ok'\n",
        "df_ok.head()"
      ],
      "execution_count": 24,
      "outputs": [
        {
          "output_type": "execute_result",
          "data": {
            "text/html": [
              "<div>\n",
              "<style scoped>\n",
              "    .dataframe tbody tr th:only-of-type {\n",
              "        vertical-align: middle;\n",
              "    }\n",
              "\n",
              "    .dataframe tbody tr th {\n",
              "        vertical-align: top;\n",
              "    }\n",
              "\n",
              "    .dataframe thead th {\n",
              "        text-align: right;\n",
              "    }\n",
              "</style>\n",
              "<table border=\"1\" class=\"dataframe\">\n",
              "  <thead>\n",
              "    <tr style=\"text-align: right;\">\n",
              "      <th></th>\n",
              "      <th>imageID</th>\n",
              "      <th>QCcheck</th>\n",
              "    </tr>\n",
              "  </thead>\n",
              "  <tbody>\n",
              "    <tr>\n",
              "      <th>0</th>\n",
              "      <td>cast_ok_0_7402</td>\n",
              "      <td>ok</td>\n",
              "    </tr>\n",
              "    <tr>\n",
              "      <th>1</th>\n",
              "      <td>cast_ok_0_6552</td>\n",
              "      <td>ok</td>\n",
              "    </tr>\n",
              "    <tr>\n",
              "      <th>2</th>\n",
              "      <td>cast_ok_0_9591</td>\n",
              "      <td>ok</td>\n",
              "    </tr>\n",
              "    <tr>\n",
              "      <th>3</th>\n",
              "      <td>cast_ok_0_9740</td>\n",
              "      <td>ok</td>\n",
              "    </tr>\n",
              "    <tr>\n",
              "      <th>4</th>\n",
              "      <td>cast_ok_0_5372</td>\n",
              "      <td>ok</td>\n",
              "    </tr>\n",
              "  </tbody>\n",
              "</table>\n",
              "</div>"
            ],
            "text/plain": [
              "          imageID QCcheck\n",
              "0  cast_ok_0_7402      ok\n",
              "1  cast_ok_0_6552      ok\n",
              "2  cast_ok_0_9591      ok\n",
              "3  cast_ok_0_9740      ok\n",
              "4  cast_ok_0_5372      ok"
            ]
          },
          "metadata": {
            "tags": []
          },
          "execution_count": 24
        }
      ]
    },
    {
      "cell_type": "code",
      "metadata": {
        "id": "vX-dYcQcA-hS",
        "colab_type": "code",
        "colab": {
          "base_uri": "https://localhost:8080/",
          "height": 72
        },
        "outputId": "f763b6b1-5cf2-4f0d-f502-d4e6a0f0d6e3"
      },
      "source": [
        "df_full_dataset = df_notok.append(df_ok)\n",
        "df_full_dataset[\"QCcheck\"].value_counts()"
      ],
      "execution_count": 25,
      "outputs": [
        {
          "output_type": "execute_result",
          "data": {
            "text/plain": [
              "defective    3758\n",
              "ok           2875\n",
              "Name: QCcheck, dtype: int64"
            ]
          },
          "metadata": {
            "tags": []
          },
          "execution_count": 25
        }
      ]
    },
    {
      "cell_type": "code",
      "metadata": {
        "id": "WUQjx3X8Idli",
        "colab_type": "code",
        "colab": {
          "base_uri": "https://localhost:8080/",
          "height": 424
        },
        "outputId": "0ef98482-30b0-4400-fa61-5373f7f3bca2"
      },
      "source": [
        "# shuffle rows in dataset\n",
        "df_shuf = df_full_dataset.sample(frac=1).reset_index(drop=True)\n",
        "df_shuf"
      ],
      "execution_count": 26,
      "outputs": [
        {
          "output_type": "execute_result",
          "data": {
            "text/html": [
              "<div>\n",
              "<style scoped>\n",
              "    .dataframe tbody tr th:only-of-type {\n",
              "        vertical-align: middle;\n",
              "    }\n",
              "\n",
              "    .dataframe tbody tr th {\n",
              "        vertical-align: top;\n",
              "    }\n",
              "\n",
              "    .dataframe thead th {\n",
              "        text-align: right;\n",
              "    }\n",
              "</style>\n",
              "<table border=\"1\" class=\"dataframe\">\n",
              "  <thead>\n",
              "    <tr style=\"text-align: right;\">\n",
              "      <th></th>\n",
              "      <th>imageID</th>\n",
              "      <th>QCcheck</th>\n",
              "    </tr>\n",
              "  </thead>\n",
              "  <tbody>\n",
              "    <tr>\n",
              "      <th>0</th>\n",
              "      <td>cast_ok_0_2958</td>\n",
              "      <td>ok</td>\n",
              "    </tr>\n",
              "    <tr>\n",
              "      <th>1</th>\n",
              "      <td>cast_def_0_9903</td>\n",
              "      <td>defective</td>\n",
              "    </tr>\n",
              "    <tr>\n",
              "      <th>2</th>\n",
              "      <td>cast_def_0_7789</td>\n",
              "      <td>defective</td>\n",
              "    </tr>\n",
              "    <tr>\n",
              "      <th>3</th>\n",
              "      <td>cast_def_0_9095</td>\n",
              "      <td>defective</td>\n",
              "    </tr>\n",
              "    <tr>\n",
              "      <th>4</th>\n",
              "      <td>cast_def_0_3911</td>\n",
              "      <td>defective</td>\n",
              "    </tr>\n",
              "    <tr>\n",
              "      <th>...</th>\n",
              "      <td>...</td>\n",
              "      <td>...</td>\n",
              "    </tr>\n",
              "    <tr>\n",
              "      <th>6628</th>\n",
              "      <td>cast_def_0_6352</td>\n",
              "      <td>defective</td>\n",
              "    </tr>\n",
              "    <tr>\n",
              "      <th>6629</th>\n",
              "      <td>cast_def_0_1066</td>\n",
              "      <td>defective</td>\n",
              "    </tr>\n",
              "    <tr>\n",
              "      <th>6630</th>\n",
              "      <td>cast_ok_0_8003</td>\n",
              "      <td>ok</td>\n",
              "    </tr>\n",
              "    <tr>\n",
              "      <th>6631</th>\n",
              "      <td>cast_def_0_2699</td>\n",
              "      <td>defective</td>\n",
              "    </tr>\n",
              "    <tr>\n",
              "      <th>6632</th>\n",
              "      <td>cast_ok_0_3970</td>\n",
              "      <td>ok</td>\n",
              "    </tr>\n",
              "  </tbody>\n",
              "</table>\n",
              "<p>6633 rows × 2 columns</p>\n",
              "</div>"
            ],
            "text/plain": [
              "              imageID    QCcheck\n",
              "0      cast_ok_0_2958         ok\n",
              "1     cast_def_0_9903  defective\n",
              "2     cast_def_0_7789  defective\n",
              "3     cast_def_0_9095  defective\n",
              "4     cast_def_0_3911  defective\n",
              "...               ...        ...\n",
              "6628  cast_def_0_6352  defective\n",
              "6629  cast_def_0_1066  defective\n",
              "6630   cast_ok_0_8003         ok\n",
              "6631  cast_def_0_2699  defective\n",
              "6632   cast_ok_0_3970         ok\n",
              "\n",
              "[6633 rows x 2 columns]"
            ]
          },
          "metadata": {
            "tags": []
          },
          "execution_count": 26
        }
      ]
    },
    {
      "cell_type": "code",
      "metadata": {
        "id": "0PXsXagTJE4W",
        "colab_type": "code",
        "colab": {}
      },
      "source": [
        "# # Save label data as .csv\n",
        "# df_shuf.to_csv(r'drive/My Drive/Project intelli-qc/label.csv', index = False)"
      ],
      "execution_count": 28,
      "outputs": []
    },
    {
      "cell_type": "code",
      "metadata": {
        "id": "nqFGL9svK9nu",
        "colab_type": "code",
        "colab": {
          "base_uri": "https://localhost:8080/",
          "height": 628
        },
        "outputId": "8cf9bdb5-7c21-4f20-a2f8-23cb0012d66f"
      },
      "source": [
        "df_shuf['QCcheck'].value_counts().plot.bar(figsize=(10,10));"
      ],
      "execution_count": 29,
      "outputs": [
        {
          "output_type": "display_data",
          "data": {
            "image/png": "[encoded data removed]",
            "text/plain": [
              "<Figure size 720x720 with 1 Axes>"
            ]
          },
          "metadata": {
            "tags": [],
            "needs_background": "light"
          }
        }
      ]
    },
    {
      "cell_type": "code",
      "metadata": {
        "id": "57fCQ-7ge2VM",
        "colab_type": "code",
        "colab": {}
      },
      "source": [
        ""
      ],
      "execution_count": null,
      "outputs": []
    }
  ]
}